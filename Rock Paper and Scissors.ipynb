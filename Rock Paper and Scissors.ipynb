{
 "cells": [
  {
   "cell_type": "code",
   "execution_count": 17,
   "id": "0c84fcdc",
   "metadata": {},
   "outputs": [
    {
     "name": "stdout",
     "output_type": "stream",
     "text": [
      "Enter your choice:(rock, paper, scissors): rock\n",
      "You chose rock computer chose scissors\n",
      "Rock smashes scissors! You win!\n",
      "\n",
      "Want to play again? (y/n): y\n",
      "Enter your choice:(rock, paper, scissors): paper\n",
      "You chose paper computer chose scissors\n",
      "Scissors cuts paper! You lose.\n",
      "\n",
      "Want to play again? (y/n): y\n",
      "Enter your choice:(rock, paper, scissors): scissors\n",
      "You chose scissors computer chose scissors\n",
      "Both players selected scissors It's a tie!\n",
      "\n",
      "Want to play again? (y/n): n\n"
     ]
    }
   ],
   "source": [
    "while True:\n",
    "    yourchoice = input(\"Enter your choice:(rock, paper, scissors): \")\n",
    "    choice = [\"rock\", \"paper\", \"scissors\"]\n",
    "    computerchoice = random.choice(choice)\n",
    "    print('You chose',yourchoice,'computer chose',computerchoice)\n",
    "    if yourchoice == computerchoice:\n",
    "        print(\"Both players selected\",yourchoice,\"It's a tie!\")\n",
    "    elif yourchoice == \"rock\":\n",
    "        if computerchoice == \"scissors\":\n",
    "            print(\"Rock smashes scissors! You win!\")\n",
    "        else:\n",
    "            print(\"Paper covers rock! You lose.\")\n",
    "    elif yourchoice == \"paper\":\n",
    "        if computerchoice == \"rock\":\n",
    "            print(\"Paper covers rock! You win!\")\n",
    "        else:\n",
    "            print(\"Scissors cuts paper! You lose.\")\n",
    "    elif yourchoice == \"scissors\":\n",
    "        if computerchoice == \"paper\":\n",
    "            print(\"Scissors cuts paper! You win!\")\n",
    "        else:\n",
    "            print(\"Rock smashes scissors! You lose.\")\n",
    "    playagain = input(\"\\nWant to play again? (y/n): \")\n",
    "    if playagain.lower() != \"y\":\n",
    "        break"
   ]
  }
 ],
 "metadata": {
  "kernelspec": {
   "display_name": "Python 3 (ipykernel)",
   "language": "python",
   "name": "python3"
  },
  "language_info": {
   "codemirror_mode": {
    "name": "ipython",
    "version": 3
   },
   "file_extension": ".py",
   "mimetype": "text/x-python",
   "name": "python",
   "nbconvert_exporter": "python",
   "pygments_lexer": "ipython3",
   "version": "3.9.7"
  }
 },
 "nbformat": 4,
 "nbformat_minor": 5
}
