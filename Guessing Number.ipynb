{
 "cells": [
  {
   "cell_type": "code",
   "execution_count": 11,
   "id": "6957bdf0",
   "metadata": {},
   "outputs": [
    {
     "name": "stdout",
     "output_type": "stream",
     "text": [
      "\n",
      "1-Play \n",
      "2-Exit\n",
      "1\n",
      "Enter your number: 6\n",
      "you guessed wrong,the actual number was 3\n",
      "\n",
      "1-Play \n",
      "2-Exit\n",
      "1\n",
      "Enter your number: 3\n",
      "You guessed it right.\n",
      "\n",
      "1-Play \n",
      "2-Exit\n",
      "2\n"
     ]
    }
   ],
   "source": [
    "import random\n",
    "while True:\n",
    "    you_num=int(input('''\n",
    "1-Play \n",
    "2-Exit\n",
    "'''))\n",
    "    if you_num==1:\n",
    "        randnum=random.randrange(1,10)\n",
    "        my_num=int(input('Enter your number: '))\n",
    "        if my_num>randnum:\n",
    "            print('you guessed wrong,the actual number was',randnum)\n",
    "        elif my_num<randnum:\n",
    "            print('You guessed wrong,the actual number was',randnum)\n",
    "        elif my_num==randnum:\n",
    "            print('You guessed it right.')\n",
    "    else:\n",
    "        break"
   ]
  }
 ],
 "metadata": {
  "kernelspec": {
   "display_name": "Python 3 (ipykernel)",
   "language": "python",
   "name": "python3"
  },
  "language_info": {
   "codemirror_mode": {
    "name": "ipython",
    "version": 3
   },
   "file_extension": ".py",
   "mimetype": "text/x-python",
   "name": "python",
   "nbconvert_exporter": "python",
   "pygments_lexer": "ipython3",
   "version": "3.9.7"
  }
 },
 "nbformat": 4,
 "nbformat_minor": 5
}
